{
 "cells": [
  {
   "cell_type": "code",
   "execution_count": 1,
   "metadata": {},
   "outputs": [],
   "source": [
    "from profiling import run_games\n",
    "import cProfile\n",
    "import pstats"
   ]
  },
  {
   "cell_type": "code",
   "execution_count": 3,
   "metadata": {},
   "outputs": [
    {
     "name": "stdout",
     "output_type": "stream",
     "text": [
      "200 MOVES EXHAUSTED\n",
      "200 MOVES EXHAUSTED\n",
      "200 MOVES EXHAUSTED\n",
      "200 MOVES EXHAUSTED\n",
      "200 MOVES EXHAUSTED\n",
      "Color.WHITE CHECKMATED\n",
      "200 MOVES EXHAUSTED\n",
      "200 MOVES EXHAUSTED\n",
      "200 MOVES EXHAUSTED\n"
     ]
    }
   ],
   "source": [
    "GAME_COUNT=10\n",
    "profiler = cProfile.Profile()\n",
    "op = profiler.run(\"run_games(GAME_COUNT)\")\n",
    "stats = pstats.Stats(op)\n",
    "op.print_stats()\n",
    "print(f\"AVERAGE PER GAME TIME: {stats.total_tt/GAME_COUNT}\")"
   ]
  }
 ],
 "metadata": {
  "kernelspec": {
   "display_name": "venv",
   "language": "python",
   "name": "python3"
  },
  "language_info": {
   "codemirror_mode": {
    "name": "ipython",
    "version": 3
   },
   "file_extension": ".py",
   "mimetype": "text/x-python",
   "name": "python",
   "nbconvert_exporter": "python",
   "pygments_lexer": "ipython3",
   "version": "3.10.6"
  },
  "orig_nbformat": 4
 },
 "nbformat": 4,
 "nbformat_minor": 2
}
