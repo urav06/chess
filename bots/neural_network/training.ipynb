{
 "cells": [
  {
   "cell_type": "code",
   "execution_count": 1,
   "metadata": {},
   "outputs": [],
   "source": [
    "from engine import Game, from_fen\n",
    "from bots import Agent\n",
    "from collections import deque\n",
    "import random"
   ]
  },
  {
   "cell_type": "code",
   "execution_count": 2,
   "metadata": {},
   "outputs": [],
   "source": [
    "GAME_COUNT = 100\n",
    "MOVE_COUNT = 250\n",
    "ETA = 0.01"
   ]
  },
  {
   "cell_type": "code",
   "execution_count": null,
   "metadata": {},
   "outputs": [],
   "source": [
    "game = Game()\n",
    "agent = Agent([100, 100])\n",
    "ringbuf = deque(maxlen=100)\n",
    "for _ in range(GAME_COUNT):\n",
    "    game.reset()\n",
    "    from_fen(\"rnbqkbnr/pppppppp/8/8/8/8/PPPPPPPP/RNBQKBNR\", game)\n",
    "    for _ in range(MOVE_COUNT):\n",
    "        if not (moves := list(game.legal_moves())):\n",
    "            break\n",
    "        agent_move = agent.select_move(game.board, moves)\n",
    "        if agent_move >= len(moves):\n",
    "            agent_move = random.randint(0, len(moves)-1)\n",
    "            ringbuf.append(0)  # Agent selected an invalid move\n",
    "            agent.train(game.board, moves, ETA)\n",
    "        else:\n",
    "            ringbuf.append(1)  # Agent selected a valid move\n",
    "        game.execute_move(moves[agent_move])\n",
    "        print(f\"Ringbuf avg: {sum(ringbuf)/len(ringbuf)}\")"
   ]
  }
 ],
 "metadata": {
  "kernelspec": {
   "display_name": "venv",
   "language": "python",
   "name": "python3"
  },
  "language_info": {
   "codemirror_mode": {
    "name": "ipython",
    "version": 3
   },
   "file_extension": ".py",
   "mimetype": "text/x-python",
   "name": "python",
   "nbconvert_exporter": "python",
   "pygments_lexer": "ipython3",
   "version": "3.10.12"
  },
  "orig_nbformat": 4
 },
 "nbformat": 4,
 "nbformat_minor": 2
}
